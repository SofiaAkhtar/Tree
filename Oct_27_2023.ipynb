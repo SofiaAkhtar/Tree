{
  "nbformat": 4,
  "nbformat_minor": 0,
  "metadata": {
    "colab": {
      "provenance": [],
      "include_colab_link": true
    },
    "kernelspec": {
      "name": "python3",
      "display_name": "Python 3"
    },
    "language_info": {
      "name": "python"
    }
  },
  "cells": [
    {
      "cell_type": "markdown",
      "metadata": {
        "id": "view-in-github",
        "colab_type": "text"
      },
      "source": [
        "<a href=\"https://colab.research.google.com/github/SofiaAkhtar/Tree/blob/main/Oct_27_2023.ipynb\" target=\"_parent\"><img src=\"https://colab.research.google.com/assets/colab-badge.svg\" alt=\"Open In Colab\"/></a>"
      ]
    },
    {
      "cell_type": "markdown",
      "source": [
        "#Binary Search Tree ( BST )\n",
        "\n",
        "\n",
        "\n"
      ],
      "metadata": {
        "id": "kxOPyRCugoPK"
      }
    },
    {
      "cell_type": "code",
      "execution_count": null,
      "metadata": {
        "id": "wSR3acucTTqQ"
      },
      "outputs": [],
      "source": [
        "class Node:\n",
        "    def __init__(self, val):\n",
        "        self.val = val\n",
        "        self.leftChild = None\n",
        "        self.rightChild = None\n",
        "\n",
        "    def insert(self, val):\n",
        "        if val < self.val:\n",
        "            if self.leftChild:\n",
        "                self.leftChild.insert(val)\n",
        "            else:\n",
        "                self.leftChild = Node(val)\n",
        "                return\n",
        "        else:\n",
        "            if self.rightChild:\n",
        "                self.rightChild.insert(val)\n",
        "            else:\n",
        "                self.rightChild = Node(val)\n",
        "                return"
      ]
    },
    {
      "cell_type": "code",
      "source": [
        "class BinarySearchTree:\n",
        "    def __init__(self, val):\n",
        "        self.root = Node(val)\n",
        "\n",
        "    def insert(self, val):\n",
        "        if self.root:\n",
        "            return self.root.insert(val)\n",
        "        else:\n",
        "            self.root = Node(val)\n",
        "            return True"
      ],
      "metadata": {
        "id": "RO_dqOtUnqOp"
      },
      "execution_count": null,
      "outputs": []
    },
    {
      "cell_type": "markdown",
      "source": [
        "Q1.\n",
        "\n",
        "https://leetcode.com/problems/range-sum-of-bst/description/"
      ],
      "metadata": {
        "id": "mfO6qAY1Lzv7"
      }
    },
    {
      "cell_type": "code",
      "source": [
        "#iterative solution\n",
        "class Solution:\n",
        "    def rangeSumBST(self, root: Optional[TreeNode], low: int, high: int) -> int:\n",
        "        summation = 0\n",
        "        q = [root]\n",
        "        while q:\n",
        "            current = q.pop()\n",
        "            if current:\n",
        "                if low <= current.val <= high:\n",
        "                    summation += current.val\n",
        "                if current.val > low:\n",
        "                    q.append(current.left)\n",
        "                if current.val < high:\n",
        "                    q.append(current.right)\n",
        "        return summation\n",
        "\n",
        "\n",
        "#Recursive solution\n",
        "class Solution:\n",
        "    def rangeSumBST(self, root: Optional[TreeNode], low: int, high: int) -> int:\n",
        "        summation = 0\n",
        "        def search(node):\n",
        "            nonlocal summation\n",
        "            if node:\n",
        "                if node.val <= high and node.val >= low:\n",
        "                    summation += node.val\n",
        "                search(node.left)\n",
        "                search(node.right)\n",
        "        search(root)\n",
        "        return(summation)\n",
        "\n",
        "\n"
      ],
      "metadata": {
        "id": "HKW659Ffq5xG"
      },
      "execution_count": null,
      "outputs": []
    },
    {
      "cell_type": "markdown",
      "source": [
        "Q2.\n",
        "\n",
        "https://leetcode.com/problems/search-in-a-binary-search-tree/description/"
      ],
      "metadata": {
        "id": "g7AOu_rFQqpO"
      }
    },
    {
      "cell_type": "code",
      "source": [
        "#Iterative\n",
        "class Solution:\n",
        "    def searchBST(self, root: Optional[TreeNode], val: int) -> Optional[TreeNode]:\n",
        "        while root != None and root.val != val:\n",
        "            if val < root.val:\n",
        "                root = root.left\n",
        "            else:\n",
        "                root = root.right\n",
        "        return root\n",
        "\n",
        "\n",
        "#Recursive Approach\n",
        "class Solution:\n",
        "    def searchBST(self, root: Optional[TreeNode], val: int) -> Optional[TreeNode]:\n",
        "\n",
        "        def search(root):\n",
        "            if root == None:\n",
        "                return None\n",
        "            if root.val == val:\n",
        "                return root\n",
        "            if val < root.val:\n",
        "                return search(root.left)\n",
        "            else:\n",
        "                return search(root.right)\n",
        "\n",
        "        return search(root)"
      ],
      "metadata": {
        "id": "c9oWevroQXc3"
      },
      "execution_count": null,
      "outputs": []
    }
  ]
}